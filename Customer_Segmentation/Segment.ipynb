{
 "cells": [
  {
   "cell_type": "code",
   "execution_count": 1,
   "id": "260fb21a-76a1-4da6-b555-1c9a18f77346",
   "metadata": {},
   "outputs": [],
   "source": [
    "transaction=\"E:\\\\Power_BI\\\\Customer_Segmentation\\\\Transaction.csv\"\n",
    "mapping=\"E:\\\\Power_BI\\\\Customer_Segmentation\\\\rfm_mapping.xlsx\""
   ]
  },
  {
   "cell_type": "code",
   "execution_count": 2,
   "id": "e7376641-905f-4396-a99b-99ecbd8de63c",
   "metadata": {
    "tags": []
   },
   "outputs": [],
   "source": [
    "import pandas as pd\n",
    "import numpy as np"
   ]
  },
  {
   "cell_type": "code",
   "execution_count": 3,
   "id": "fc01627b-bea2-4af2-b5df-ae1870eacfc5",
   "metadata": {
    "tags": []
   },
   "outputs": [],
   "source": [
    "df1=pd.read_csv(transaction)\n",
    "df2=pd.read_excel(mapping)"
   ]
  },
  {
   "cell_type": "code",
   "execution_count": 4,
   "id": "e81fc408-1ab5-4364-8840-8ce28ec1029d",
   "metadata": {
    "tags": []
   },
   "outputs": [
    {
     "data": {
      "text/html": [
       "<div>\n",
       "<style scoped>\n",
       "    .dataframe tbody tr th:only-of-type {\n",
       "        vertical-align: middle;\n",
       "    }\n",
       "\n",
       "    .dataframe tbody tr th {\n",
       "        vertical-align: top;\n",
       "    }\n",
       "\n",
       "    .dataframe thead th {\n",
       "        text-align: right;\n",
       "    }\n",
       "</style>\n",
       "<table border=\"1\" class=\"dataframe\">\n",
       "  <thead>\n",
       "    <tr style=\"text-align: right;\">\n",
       "      <th></th>\n",
       "      <th>id</th>\n",
       "      <th>UserId</th>\n",
       "      <th>TransactionId</th>\n",
       "      <th>TransactionTime</th>\n",
       "      <th>ItemCode</th>\n",
       "      <th>ItemDescription</th>\n",
       "      <th>NumberOfItemsPurchased</th>\n",
       "      <th>CostPerItem</th>\n",
       "      <th>Country</th>\n",
       "    </tr>\n",
       "  </thead>\n",
       "  <tbody>\n",
       "    <tr>\n",
       "      <th>0</th>\n",
       "      <td>0</td>\n",
       "      <td>278166</td>\n",
       "      <td>6355745</td>\n",
       "      <td>2019-02-02 12:50:00</td>\n",
       "      <td>465549</td>\n",
       "      <td>FAMILY ALBUM WHITE PICTURE FRAME</td>\n",
       "      <td>6</td>\n",
       "      <td>11.73</td>\n",
       "      <td>United Kingdom</td>\n",
       "    </tr>\n",
       "    <tr>\n",
       "      <th>1</th>\n",
       "      <td>1</td>\n",
       "      <td>337701</td>\n",
       "      <td>6283376</td>\n",
       "      <td>2018-12-26 09:06:00</td>\n",
       "      <td>482370</td>\n",
       "      <td>LONDON BUS COFFEE MUG</td>\n",
       "      <td>3</td>\n",
       "      <td>3.52</td>\n",
       "      <td>United Kingdom</td>\n",
       "    </tr>\n",
       "    <tr>\n",
       "      <th>2</th>\n",
       "      <td>2</td>\n",
       "      <td>267099</td>\n",
       "      <td>6385599</td>\n",
       "      <td>2019-02-15 09:45:00</td>\n",
       "      <td>490728</td>\n",
       "      <td>SET 12 COLOUR PENCILS DOLLY GIRL</td>\n",
       "      <td>72</td>\n",
       "      <td>0.90</td>\n",
       "      <td>France</td>\n",
       "    </tr>\n",
       "    <tr>\n",
       "      <th>3</th>\n",
       "      <td>3</td>\n",
       "      <td>380478</td>\n",
       "      <td>6044973</td>\n",
       "      <td>2018-06-22 07:14:00</td>\n",
       "      <td>459186</td>\n",
       "      <td>UNION JACK FLAG LUGGAGE TAG</td>\n",
       "      <td>3</td>\n",
       "      <td>1.73</td>\n",
       "      <td>United Kingdom</td>\n",
       "    </tr>\n",
       "    <tr>\n",
       "      <th>4</th>\n",
       "      <td>4</td>\n",
       "      <td>285957</td>\n",
       "      <td>6307136</td>\n",
       "      <td>2019-01-11 09:50:00</td>\n",
       "      <td>1787247</td>\n",
       "      <td>CUT GLASS T-LIGHT HOLDER OCTAGON</td>\n",
       "      <td>12</td>\n",
       "      <td>3.52</td>\n",
       "      <td>United Kingdom</td>\n",
       "    </tr>\n",
       "  </tbody>\n",
       "</table>\n",
       "</div>"
      ],
      "text/plain": [
       "   id  UserId  TransactionId      TransactionTime  ItemCode  \\\n",
       "0   0  278166        6355745  2019-02-02 12:50:00    465549   \n",
       "1   1  337701        6283376  2018-12-26 09:06:00    482370   \n",
       "2   2  267099        6385599  2019-02-15 09:45:00    490728   \n",
       "3   3  380478        6044973  2018-06-22 07:14:00    459186   \n",
       "4   4  285957        6307136  2019-01-11 09:50:00   1787247   \n",
       "\n",
       "                     ItemDescription  NumberOfItemsPurchased  CostPerItem  \\\n",
       "0   FAMILY ALBUM WHITE PICTURE FRAME                       6        11.73   \n",
       "1              LONDON BUS COFFEE MUG                       3         3.52   \n",
       "2  SET 12 COLOUR PENCILS DOLLY GIRL                       72         0.90   \n",
       "3        UNION JACK FLAG LUGGAGE TAG                       3         1.73   \n",
       "4   CUT GLASS T-LIGHT HOLDER OCTAGON                      12         3.52   \n",
       "\n",
       "          Country  \n",
       "0  United Kingdom  \n",
       "1  United Kingdom  \n",
       "2          France  \n",
       "3  United Kingdom  \n",
       "4  United Kingdom  "
      ]
     },
     "execution_count": 4,
     "metadata": {},
     "output_type": "execute_result"
    }
   ],
   "source": [
    "df1.head()"
   ]
  },
  {
   "cell_type": "code",
   "execution_count": 5,
   "id": "c2ab26c4-ebdb-4884-b3fa-99bcd302a7f9",
   "metadata": {
    "tags": []
   },
   "outputs": [
    {
     "name": "stdout",
     "output_type": "stream",
     "text": [
      "<class 'pandas.core.frame.DataFrame'>\n",
      "RangeIndex: 380405 entries, 0 to 380404\n",
      "Data columns (total 9 columns):\n",
      " #   Column                  Non-Null Count   Dtype  \n",
      "---  ------                  --------------   -----  \n",
      " 0   id                      380405 non-null  int64  \n",
      " 1   UserId                  380405 non-null  int64  \n",
      " 2   TransactionId           380405 non-null  int64  \n",
      " 3   TransactionTime         380405 non-null  object \n",
      " 4   ItemCode                380405 non-null  int64  \n",
      " 5   ItemDescription         380405 non-null  object \n",
      " 6   NumberOfItemsPurchased  380405 non-null  int64  \n",
      " 7   CostPerItem             380405 non-null  float64\n",
      " 8   Country                 380405 non-null  object \n",
      "dtypes: float64(1), int64(5), object(3)\n",
      "memory usage: 26.1+ MB\n"
     ]
    }
   ],
   "source": [
    "df1.info()"
   ]
  },
  {
   "cell_type": "code",
   "execution_count": 6,
   "id": "728b2143-0b0e-4af2-b6af-a96e9c1da51b",
   "metadata": {
    "tags": []
   },
   "outputs": [],
   "source": [
    "df1.TransactionTime=pd.to_datetime(df1.TransactionTime)"
   ]
  },
  {
   "cell_type": "code",
   "execution_count": 7,
   "id": "38d37d55-f357-4599-ba58-bc883517b225",
   "metadata": {
    "tags": []
   },
   "outputs": [
    {
     "data": {
      "text/html": [
       "<div>\n",
       "<style scoped>\n",
       "    .dataframe tbody tr th:only-of-type {\n",
       "        vertical-align: middle;\n",
       "    }\n",
       "\n",
       "    .dataframe tbody tr th {\n",
       "        vertical-align: top;\n",
       "    }\n",
       "\n",
       "    .dataframe thead th {\n",
       "        text-align: right;\n",
       "    }\n",
       "</style>\n",
       "<table border=\"1\" class=\"dataframe\">\n",
       "  <thead>\n",
       "    <tr style=\"text-align: right;\">\n",
       "      <th></th>\n",
       "      <th>r_score</th>\n",
       "      <th>f_score</th>\n",
       "      <th>m_score</th>\n",
       "      <th>RFM_score</th>\n",
       "      <th>Segments</th>\n",
       "    </tr>\n",
       "  </thead>\n",
       "  <tbody>\n",
       "    <tr>\n",
       "      <th>0</th>\n",
       "      <td>3</td>\n",
       "      <td>1</td>\n",
       "      <td>4</td>\n",
       "      <td>314</td>\n",
       "      <td>Big spender</td>\n",
       "    </tr>\n",
       "    <tr>\n",
       "      <th>1</th>\n",
       "      <td>3</td>\n",
       "      <td>1</td>\n",
       "      <td>5</td>\n",
       "      <td>315</td>\n",
       "      <td>Big spender</td>\n",
       "    </tr>\n",
       "    <tr>\n",
       "      <th>2</th>\n",
       "      <td>3</td>\n",
       "      <td>2</td>\n",
       "      <td>4</td>\n",
       "      <td>324</td>\n",
       "      <td>Big spender</td>\n",
       "    </tr>\n",
       "    <tr>\n",
       "      <th>3</th>\n",
       "      <td>3</td>\n",
       "      <td>2</td>\n",
       "      <td>5</td>\n",
       "      <td>325</td>\n",
       "      <td>Big spender</td>\n",
       "    </tr>\n",
       "    <tr>\n",
       "      <th>4</th>\n",
       "      <td>3</td>\n",
       "      <td>3</td>\n",
       "      <td>4</td>\n",
       "      <td>334</td>\n",
       "      <td>Big spender</td>\n",
       "    </tr>\n",
       "  </tbody>\n",
       "</table>\n",
       "</div>"
      ],
      "text/plain": [
       "   r_score  f_score  m_score  RFM_score     Segments\n",
       "0        3        1        4        314  Big spender\n",
       "1        3        1        5        315  Big spender\n",
       "2        3        2        4        324  Big spender\n",
       "3        3        2        5        325  Big spender\n",
       "4        3        3        4        334  Big spender"
      ]
     },
     "execution_count": 7,
     "metadata": {},
     "output_type": "execute_result"
    }
   ],
   "source": [
    "df2.head()"
   ]
  },
  {
   "cell_type": "code",
   "execution_count": 8,
   "id": "cb89f79b-13d2-4a9d-a13c-2000e4a21a9a",
   "metadata": {
    "tags": []
   },
   "outputs": [],
   "source": [
    "df1['F_value']=df1.TransactionId.count()"
   ]
  },
  {
   "cell_type": "code",
   "execution_count": 9,
   "id": "22040c04-b5f6-4ae9-a64b-6830ce284033",
   "metadata": {
    "tags": []
   },
   "outputs": [],
   "source": [
    "rfmtable = df1.groupby('UserId')['TransactionId'].nunique().reset_index(name='F_Value')"
   ]
  },
  {
   "cell_type": "code",
   "execution_count": 10,
   "id": "d0534374-e375-422b-b919-b7dac21972b7",
   "metadata": {
    "tags": []
   },
   "outputs": [],
   "source": [
    "from datetime import datetime\n",
    "today = datetime.today()\n",
    "rvalue = df1.groupby('UserId')['TransactionTime'].max().apply(lambda x: (today - x).days).reset_index(name='R_Value')"
   ]
  },
  {
   "cell_type": "code",
   "execution_count": 11,
   "id": "1863c63f-d5b1-4dab-a49b-d7e3c6f58462",
   "metadata": {
    "tags": []
   },
   "outputs": [],
   "source": [
    "df1['Amount']=df1.CostPerItem*df1.NumberOfItemsPurchased"
   ]
  },
  {
   "cell_type": "code",
   "execution_count": 12,
   "id": "8b22560f-33a7-4909-96ee-6a270eea2fcd",
   "metadata": {
    "tags": []
   },
   "outputs": [],
   "source": [
    "mvalue = df1.groupby('UserId')['Amount'].sum().reset_index(name='M_Value')"
   ]
  },
  {
   "cell_type": "code",
   "execution_count": 13,
   "id": "3b5297e3-b37e-496e-8af7-af46368c6d70",
   "metadata": {
    "tags": []
   },
   "outputs": [],
   "source": [
    "rfmtable = rfmtable.merge(rvalue, on='UserId')"
   ]
  },
  {
   "cell_type": "code",
   "execution_count": 14,
   "id": "e5e6f1d2-a6dc-4ca9-a993-4eec56fe7607",
   "metadata": {
    "tags": []
   },
   "outputs": [],
   "source": [
    "rfmtable = rfmtable.merge(mvalue, on='UserId')"
   ]
  },
  {
   "cell_type": "code",
   "execution_count": 15,
   "id": "c6d583fa-aeef-4e14-ba22-4a86aa438d0b",
   "metadata": {
    "tags": []
   },
   "outputs": [
    {
     "data": {
      "text/html": [
       "<div>\n",
       "<style scoped>\n",
       "    .dataframe tbody tr th:only-of-type {\n",
       "        vertical-align: middle;\n",
       "    }\n",
       "\n",
       "    .dataframe tbody tr th {\n",
       "        vertical-align: top;\n",
       "    }\n",
       "\n",
       "    .dataframe thead th {\n",
       "        text-align: right;\n",
       "    }\n",
       "</style>\n",
       "<table border=\"1\" class=\"dataframe\">\n",
       "  <thead>\n",
       "    <tr style=\"text-align: right;\">\n",
       "      <th></th>\n",
       "      <th>UserId</th>\n",
       "      <th>F_Value</th>\n",
       "      <th>R_Value</th>\n",
       "      <th>M_Value</th>\n",
       "    </tr>\n",
       "  </thead>\n",
       "  <tbody>\n",
       "    <tr>\n",
       "      <th>0</th>\n",
       "      <td>259266</td>\n",
       "      <td>1</td>\n",
       "      <td>2626</td>\n",
       "      <td>320608.80</td>\n",
       "    </tr>\n",
       "    <tr>\n",
       "      <th>1</th>\n",
       "      <td>259287</td>\n",
       "      <td>7</td>\n",
       "      <td>2303</td>\n",
       "      <td>17565.78</td>\n",
       "    </tr>\n",
       "    <tr>\n",
       "      <th>2</th>\n",
       "      <td>259308</td>\n",
       "      <td>4</td>\n",
       "      <td>2376</td>\n",
       "      <td>6954.48</td>\n",
       "    </tr>\n",
       "    <tr>\n",
       "      <th>3</th>\n",
       "      <td>259329</td>\n",
       "      <td>1</td>\n",
       "      <td>2319</td>\n",
       "      <td>7211.94</td>\n",
       "    </tr>\n",
       "    <tr>\n",
       "      <th>4</th>\n",
       "      <td>259350</td>\n",
       "      <td>1</td>\n",
       "      <td>2611</td>\n",
       "      <td>1387.20</td>\n",
       "    </tr>\n",
       "    <tr>\n",
       "      <th>...</th>\n",
       "      <td>...</td>\n",
       "      <td>...</td>\n",
       "      <td>...</td>\n",
       "      <td>...</td>\n",
       "    </tr>\n",
       "    <tr>\n",
       "      <th>4334</th>\n",
       "      <td>383880</td>\n",
       "      <td>1</td>\n",
       "      <td>2578</td>\n",
       "      <td>748.65</td>\n",
       "    </tr>\n",
       "    <tr>\n",
       "      <th>4335</th>\n",
       "      <td>383901</td>\n",
       "      <td>1</td>\n",
       "      <td>2481</td>\n",
       "      <td>334.80</td>\n",
       "    </tr>\n",
       "    <tr>\n",
       "      <th>4336</th>\n",
       "      <td>383922</td>\n",
       "      <td>2</td>\n",
       "      <td>2308</td>\n",
       "      <td>739.20</td>\n",
       "    </tr>\n",
       "    <tr>\n",
       "      <th>4337</th>\n",
       "      <td>383943</td>\n",
       "      <td>16</td>\n",
       "      <td>2304</td>\n",
       "      <td>8125.65</td>\n",
       "    </tr>\n",
       "    <tr>\n",
       "      <th>4338</th>\n",
       "      <td>384027</td>\n",
       "      <td>3</td>\n",
       "      <td>2343</td>\n",
       "      <td>6604.92</td>\n",
       "    </tr>\n",
       "  </tbody>\n",
       "</table>\n",
       "<p>4339 rows × 4 columns</p>\n",
       "</div>"
      ],
      "text/plain": [
       "      UserId  F_Value  R_Value    M_Value\n",
       "0     259266        1     2626  320608.80\n",
       "1     259287        7     2303   17565.78\n",
       "2     259308        4     2376    6954.48\n",
       "3     259329        1     2319    7211.94\n",
       "4     259350        1     2611    1387.20\n",
       "...      ...      ...      ...        ...\n",
       "4334  383880        1     2578     748.65\n",
       "4335  383901        1     2481     334.80\n",
       "4336  383922        2     2308     739.20\n",
       "4337  383943       16     2304    8125.65\n",
       "4338  384027        3     2343    6604.92\n",
       "\n",
       "[4339 rows x 4 columns]"
      ]
     },
     "execution_count": 15,
     "metadata": {},
     "output_type": "execute_result"
    }
   ],
   "source": [
    "rfmtable"
   ]
  },
  {
   "cell_type": "code",
   "execution_count": 16,
   "id": "cc853f28-46ad-4918-ba5f-a7d3e07e4783",
   "metadata": {
    "tags": []
   },
   "outputs": [],
   "source": [
    "rfmtable['R_Score'] = pd.qcut(rfmtable['R_Value'], 5, labels=[5,4,3,2,1]).astype(int)\n",
    "rfmtable['F_Score'] = pd.qcut(rfmtable['F_Value'].rank(method='first'), 5, labels=[1,2,3,4,5]).astype(int)\n",
    "rfmtable['M_Score'] = pd.qcut(rfmtable['M_Value'], 5, labels=[1,2,3,4,5]).astype(int)"
   ]
  },
  {
   "cell_type": "code",
   "execution_count": 17,
   "id": "6c80fc13-8087-41a4-b048-5284264c5d8f",
   "metadata": {
    "tags": []
   },
   "outputs": [
    {
     "data": {
      "text/html": [
       "<div>\n",
       "<style scoped>\n",
       "    .dataframe tbody tr th:only-of-type {\n",
       "        vertical-align: middle;\n",
       "    }\n",
       "\n",
       "    .dataframe tbody tr th {\n",
       "        vertical-align: top;\n",
       "    }\n",
       "\n",
       "    .dataframe thead th {\n",
       "        text-align: right;\n",
       "    }\n",
       "</style>\n",
       "<table border=\"1\" class=\"dataframe\">\n",
       "  <thead>\n",
       "    <tr style=\"text-align: right;\">\n",
       "      <th></th>\n",
       "      <th>UserId</th>\n",
       "      <th>F_Value</th>\n",
       "      <th>R_Value</th>\n",
       "      <th>M_Value</th>\n",
       "      <th>R_Score</th>\n",
       "      <th>F_Score</th>\n",
       "      <th>M_Score</th>\n",
       "    </tr>\n",
       "  </thead>\n",
       "  <tbody>\n",
       "    <tr>\n",
       "      <th>0</th>\n",
       "      <td>259266</td>\n",
       "      <td>1</td>\n",
       "      <td>2626</td>\n",
       "      <td>320608.80</td>\n",
       "      <td>1</td>\n",
       "      <td>1</td>\n",
       "      <td>5</td>\n",
       "    </tr>\n",
       "    <tr>\n",
       "      <th>1</th>\n",
       "      <td>259287</td>\n",
       "      <td>7</td>\n",
       "      <td>2303</td>\n",
       "      <td>17565.78</td>\n",
       "      <td>5</td>\n",
       "      <td>5</td>\n",
       "      <td>5</td>\n",
       "    </tr>\n",
       "    <tr>\n",
       "      <th>2</th>\n",
       "      <td>259308</td>\n",
       "      <td>4</td>\n",
       "      <td>2376</td>\n",
       "      <td>6954.48</td>\n",
       "      <td>2</td>\n",
       "      <td>4</td>\n",
       "      <td>4</td>\n",
       "    </tr>\n",
       "    <tr>\n",
       "      <th>3</th>\n",
       "      <td>259329</td>\n",
       "      <td>1</td>\n",
       "      <td>2319</td>\n",
       "      <td>7211.94</td>\n",
       "      <td>4</td>\n",
       "      <td>1</td>\n",
       "      <td>4</td>\n",
       "    </tr>\n",
       "    <tr>\n",
       "      <th>4</th>\n",
       "      <td>259350</td>\n",
       "      <td>1</td>\n",
       "      <td>2611</td>\n",
       "      <td>1387.20</td>\n",
       "      <td>1</td>\n",
       "      <td>1</td>\n",
       "      <td>2</td>\n",
       "    </tr>\n",
       "  </tbody>\n",
       "</table>\n",
       "</div>"
      ],
      "text/plain": [
       "   UserId  F_Value  R_Value    M_Value  R_Score  F_Score  M_Score\n",
       "0  259266        1     2626  320608.80        1        1        5\n",
       "1  259287        7     2303   17565.78        5        5        5\n",
       "2  259308        4     2376    6954.48        2        4        4\n",
       "3  259329        1     2319    7211.94        4        1        4\n",
       "4  259350        1     2611    1387.20        1        1        2"
      ]
     },
     "execution_count": 17,
     "metadata": {},
     "output_type": "execute_result"
    }
   ],
   "source": [
    "rfmtable.head()"
   ]
  },
  {
   "cell_type": "code",
   "execution_count": 18,
   "id": "467958bc-cd42-4b29-8fac-1ff9d12e57be",
   "metadata": {
    "tags": []
   },
   "outputs": [],
   "source": [
    "rfmtable['rfm_score'] = (\n",
    "    rfmtable['R_Score'].astype(str) +\n",
    "    rfmtable['F_Score'].astype(str) +\n",
    "    rfmtable['M_Score'].astype(str)\n",
    ")"
   ]
  },
  {
   "cell_type": "code",
   "execution_count": 19,
   "id": "5c65587f-c2ac-4d1f-83da-9e8cc93547a3",
   "metadata": {
    "tags": []
   },
   "outputs": [
    {
     "data": {
      "text/html": [
       "<div>\n",
       "<style scoped>\n",
       "    .dataframe tbody tr th:only-of-type {\n",
       "        vertical-align: middle;\n",
       "    }\n",
       "\n",
       "    .dataframe tbody tr th {\n",
       "        vertical-align: top;\n",
       "    }\n",
       "\n",
       "    .dataframe thead th {\n",
       "        text-align: right;\n",
       "    }\n",
       "</style>\n",
       "<table border=\"1\" class=\"dataframe\">\n",
       "  <thead>\n",
       "    <tr style=\"text-align: right;\">\n",
       "      <th></th>\n",
       "      <th>UserId</th>\n",
       "      <th>F_Value</th>\n",
       "      <th>R_Value</th>\n",
       "      <th>M_Value</th>\n",
       "      <th>R_Score</th>\n",
       "      <th>F_Score</th>\n",
       "      <th>M_Score</th>\n",
       "      <th>rfm_score</th>\n",
       "    </tr>\n",
       "  </thead>\n",
       "  <tbody>\n",
       "    <tr>\n",
       "      <th>0</th>\n",
       "      <td>259266</td>\n",
       "      <td>1</td>\n",
       "      <td>2626</td>\n",
       "      <td>320608.80</td>\n",
       "      <td>1</td>\n",
       "      <td>1</td>\n",
       "      <td>5</td>\n",
       "      <td>115</td>\n",
       "    </tr>\n",
       "    <tr>\n",
       "      <th>1</th>\n",
       "      <td>259287</td>\n",
       "      <td>7</td>\n",
       "      <td>2303</td>\n",
       "      <td>17565.78</td>\n",
       "      <td>5</td>\n",
       "      <td>5</td>\n",
       "      <td>5</td>\n",
       "      <td>555</td>\n",
       "    </tr>\n",
       "    <tr>\n",
       "      <th>2</th>\n",
       "      <td>259308</td>\n",
       "      <td>4</td>\n",
       "      <td>2376</td>\n",
       "      <td>6954.48</td>\n",
       "      <td>2</td>\n",
       "      <td>4</td>\n",
       "      <td>4</td>\n",
       "      <td>244</td>\n",
       "    </tr>\n",
       "    <tr>\n",
       "      <th>3</th>\n",
       "      <td>259329</td>\n",
       "      <td>1</td>\n",
       "      <td>2319</td>\n",
       "      <td>7211.94</td>\n",
       "      <td>4</td>\n",
       "      <td>1</td>\n",
       "      <td>4</td>\n",
       "      <td>414</td>\n",
       "    </tr>\n",
       "    <tr>\n",
       "      <th>4</th>\n",
       "      <td>259350</td>\n",
       "      <td>1</td>\n",
       "      <td>2611</td>\n",
       "      <td>1387.20</td>\n",
       "      <td>1</td>\n",
       "      <td>1</td>\n",
       "      <td>2</td>\n",
       "      <td>112</td>\n",
       "    </tr>\n",
       "  </tbody>\n",
       "</table>\n",
       "</div>"
      ],
      "text/plain": [
       "   UserId  F_Value  R_Value    M_Value  R_Score  F_Score  M_Score rfm_score\n",
       "0  259266        1     2626  320608.80        1        1        5       115\n",
       "1  259287        7     2303   17565.78        5        5        5       555\n",
       "2  259308        4     2376    6954.48        2        4        4       244\n",
       "3  259329        1     2319    7211.94        4        1        4       414\n",
       "4  259350        1     2611    1387.20        1        1        2       112"
      ]
     },
     "execution_count": 19,
     "metadata": {},
     "output_type": "execute_result"
    }
   ],
   "source": [
    "rfmtable.head()"
   ]
  },
  {
   "cell_type": "code",
   "execution_count": null,
   "id": "0ce78b18-a434-41cc-ac60-4e061681a8dd",
   "metadata": {},
   "outputs": [],
   "source": []
  }
 ],
 "metadata": {
  "kernelspec": {
   "display_name": "Python 3 (ipykernel)",
   "language": "python",
   "name": "python3"
  },
  "language_info": {
   "codemirror_mode": {
    "name": "ipython",
    "version": 3
   },
   "file_extension": ".py",
   "mimetype": "text/x-python",
   "name": "python",
   "nbconvert_exporter": "python",
   "pygments_lexer": "ipython3",
   "version": "3.11.5"
  }
 },
 "nbformat": 4,
 "nbformat_minor": 5
}
